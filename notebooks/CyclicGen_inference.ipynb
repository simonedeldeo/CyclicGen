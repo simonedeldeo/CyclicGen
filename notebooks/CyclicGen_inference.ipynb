{
  "nbformat": 4,
  "nbformat_minor": 0,
  "metadata": {
    "colab": {
      "name": "Copia di 07. CyclicGen.ipynb",
      "provenance": [],
      "collapsed_sections": []
    },
    "kernelspec": {
      "name": "python3",
      "display_name": "Python 3"
    },
    "accelerator": "GPU"
  },
  "cells": [
    {
      "cell_type": "code",
      "metadata": {
        "id": "F4iGc0tW-nFF",
        "colab_type": "code",
        "outputId": "591c02af-1c5e-4c38-bccf-45f1f0b55230",
        "colab": {
          "base_uri": "https://localhost:8080/",
          "height": 479
        }
      },
      "source": [
        "# ValueError: Object arrays cannot be loaded when allow_pickle=False\n",
        "# This version of numpy has the default value of allow_pickle as True.\n",
        "!pip install numpy==1.16.1\n",
        "import numpy as np\n",
        "\n",
        "# module 'scipy.misc' has no attribute 'imread' => downgrade scipy\n",
        "!pip3 install scipy==1.1.0"
      ],
      "execution_count": 0,
      "outputs": [
        {
          "output_type": "stream",
          "text": [
            "Collecting numpy==1.16.1\n",
            "\u001b[?25l  Downloading https://files.pythonhosted.org/packages/f5/bf/4981bcbee43934f0adb8f764a1e70ab0ee5a448f6505bd04a87a2fda2a8b/numpy-1.16.1-cp36-cp36m-manylinux1_x86_64.whl (17.3MB)\n",
            "\u001b[K     |████████████████████████████████| 17.3MB 1.3MB/s \n",
            "\u001b[31mERROR: datascience 0.10.6 has requirement folium==0.2.1, but you'll have folium 0.8.3 which is incompatible.\u001b[0m\n",
            "\u001b[31mERROR: albumentations 0.1.12 has requirement imgaug<0.2.7,>=0.2.5, but you'll have imgaug 0.2.9 which is incompatible.\u001b[0m\n",
            "\u001b[?25hInstalling collected packages: numpy\n",
            "  Found existing installation: numpy 1.17.5\n",
            "    Uninstalling numpy-1.17.5:\n",
            "      Successfully uninstalled numpy-1.17.5\n",
            "Successfully installed numpy-1.16.1\n"
          ],
          "name": "stdout"
        },
        {
          "output_type": "display_data",
          "data": {
            "application/vnd.colab-display-data+json": {
              "pip_warning": {
                "packages": [
                  "numpy"
                ]
              }
            }
          },
          "metadata": {
            "tags": []
          }
        },
        {
          "output_type": "stream",
          "text": [
            "Collecting scipy==1.1.0\n",
            "\u001b[?25l  Downloading https://files.pythonhosted.org/packages/a8/0b/f163da98d3a01b3e0ef1cab8dd2123c34aee2bafbb1c5bffa354cc8a1730/scipy-1.1.0-cp36-cp36m-manylinux1_x86_64.whl (31.2MB)\n",
            "\u001b[K     |████████████████████████████████| 31.2MB 102kB/s \n",
            "\u001b[?25hRequirement already satisfied: numpy>=1.8.2 in /usr/local/lib/python3.6/dist-packages (from scipy==1.1.0) (1.16.1)\n",
            "\u001b[31mERROR: plotnine 0.6.0 has requirement scipy>=1.2.0, but you'll have scipy 1.1.0 which is incompatible.\u001b[0m\n",
            "\u001b[31mERROR: albumentations 0.1.12 has requirement imgaug<0.2.7,>=0.2.5, but you'll have imgaug 0.2.9 which is incompatible.\u001b[0m\n",
            "Installing collected packages: scipy\n",
            "  Found existing installation: scipy 1.4.1\n",
            "    Uninstalling scipy-1.4.1:\n",
            "      Successfully uninstalled scipy-1.4.1\n",
            "Successfully installed scipy-1.1.0\n"
          ],
          "name": "stdout"
        }
      ]
    },
    {
      "cell_type": "code",
      "metadata": {
        "id": "Eh_8ShQ78yFX",
        "colab_type": "code",
        "outputId": "c0cb3dc0-02d5-41cc-9620-aaa8a20fdd18",
        "colab": {
          "base_uri": "https://localhost:8080/",
          "height": 122
        }
      },
      "source": [
        "from google.colab import drive\n",
        "drive.mount('/content/drive')"
      ],
      "execution_count": 0,
      "outputs": [
        {
          "output_type": "stream",
          "text": [
            "Go to this URL in a browser: https://accounts.google.com/o/oauth2/auth?client_id=947318989803-6bn6qk8qdgf4n4g3pfee6491hc0brc4i.apps.googleusercontent.com&redirect_uri=urn%3aietf%3awg%3aoauth%3a2.0%3aoob&response_type=code&scope=email%20https%3a%2f%2fwww.googleapis.com%2fauth%2fdocs.test%20https%3a%2f%2fwww.googleapis.com%2fauth%2fdrive%20https%3a%2f%2fwww.googleapis.com%2fauth%2fdrive.photos.readonly%20https%3a%2f%2fwww.googleapis.com%2fauth%2fpeopleapi.readonly\n",
            "\n",
            "Enter your authorization code:\n",
            "··········\n",
            "Mounted at /content/drive\n"
          ],
          "name": "stdout"
        }
      ]
    },
    {
      "cell_type": "code",
      "metadata": {
        "id": "R7zzgU0M71Vr",
        "colab_type": "code",
        "outputId": "13495964-70d8-4e38-9457-aeb2ae82a4ce",
        "colab": {
          "base_uri": "https://localhost:8080/",
          "height": 102
        }
      },
      "source": [
        "!git clone https://github.com/simonedeldeo/CyclicGen.git"
      ],
      "execution_count": 0,
      "outputs": [
        {
          "output_type": "stream",
          "text": [
            "Cloning into 'CyclicGen'...\n",
            "remote: Enumerating objects: 147, done.\u001b[K\n",
            "remote: Total 147 (delta 0), reused 0 (delta 0), pack-reused 147\u001b[K\n",
            "Receiving objects: 100% (147/147), 499.39 KiB | 4.80 MiB/s, done.\n",
            "Resolving deltas: 100% (77/77), done.\n"
          ],
          "name": "stdout"
        }
      ]
    },
    {
      "cell_type": "code",
      "metadata": {
        "id": "-0Dh2wMl8H4d",
        "colab_type": "code",
        "outputId": "06da2bf2-c04f-4029-bf5b-527424bc1f90",
        "colab": {
          "base_uri": "https://localhost:8080/",
          "height": 34
        }
      },
      "source": [
        "%cd CyclicGen/"
      ],
      "execution_count": 0,
      "outputs": [
        {
          "output_type": "stream",
          "text": [
            "/content/CyclicGen\n"
          ],
          "name": "stdout"
        }
      ]
    },
    {
      "cell_type": "code",
      "metadata": {
        "id": "ODwmw1B88XPA",
        "colab_type": "code",
        "colab": {}
      },
      "source": [
        "%%capture\n",
        "!cp '/content/drive/My Drive/__progetto int sys/ckps/CyclicGen/ckpt_and_hed_model.zip' '/content/CyclicGen'\n",
        "!unzip ckpt_and_hed_model.zip"
      ],
      "execution_count": 0,
      "outputs": []
    },
    {
      "cell_type": "code",
      "metadata": {
        "id": "bYvwqWDoskrt",
        "colab_type": "code",
        "colab": {}
      },
      "source": [
        "%%capture\n",
        "!rm -rf val\n",
        "!cp '/content/drive/My Drive/__progetto int sys/data/val - Star360.zip' '/content/CyclicGen'\n",
        "!mkdir val\n",
        "!unzip 'val - Star360.zip' -d val"
      ],
      "execution_count": 0,
      "outputs": []
    },
    {
      "cell_type": "code",
      "metadata": {
        "id": "FrSJ3O2Eyk2q",
        "colab_type": "code",
        "colab": {}
      },
      "source": [
        "import os\n",
        "\n",
        "cmd1 = 'python3 run.py --pretrained_model_checkpoint_path=./prv_1ep720_s1s2/model.ckpt-12000 --first='\n",
        "cmd2 = '/0.jpg --second='\n",
        "cmd3 = '/2.jpg --out='\n",
        "cmd4 = '/1out.jpg'\n",
        "\n",
        "basepath = './val'\n",
        "sub_f = os.listdir(basepath)\n",
        "sub_f.sort()\n",
        "for s in sub_f:\n",
        "  path = os.path.join(basepath, s)\n",
        "  os.system(cmd1 + path + cmd2 + path + cmd3 + path + cmd4)"
      ],
      "execution_count": 0,
      "outputs": []
    },
    {
      "cell_type": "code",
      "metadata": {
        "id": "o2oAPwkIWyzJ",
        "colab_type": "code",
        "colab": {}
      },
      "source": [
        "!rm -rf ./val/.ipynb_checkpoints"
      ],
      "execution_count": 0,
      "outputs": []
    },
    {
      "cell_type": "code",
      "metadata": {
        "id": "BTLsekrF3Owz",
        "colab_type": "code",
        "outputId": "44296d65-b55e-4ca0-aa23-fa57ec49adb3",
        "colab": {
          "base_uri": "https://localhost:8080/",
          "height": 139
        }
      },
      "source": [
        "import PIL\n",
        "import PIL.Image\n",
        "import skimage\n",
        "import skimage.measure\n",
        "import numpy\n",
        "import math\n",
        "\n",
        "gt = '/1.jpg'\n",
        "interp = '/1out.jpg'\n",
        "\n",
        "basepath = './val'\n",
        "sub_f = os.listdir(basepath)\n",
        "sub_f.sort()\n",
        "dblPsnr = []\n",
        "dblSsim = []\n",
        "dblIE = []\n",
        "for s in sub_f:\n",
        "  path = os.path.join(basepath, s)\n",
        "  dblPsnr.append(skimage.measure.compare_psnr(im_true=numpy.array(PIL.Image.open(path + gt))[:, :, ::-1], im_test=numpy.array(PIL.Image.open(path + interp))[:, :, ::-1], data_range=255))\n",
        "  dblSsim.append(skimage.measure.compare_ssim(X=numpy.array(PIL.Image.open(path + gt))[:, :, ::-1], Y=numpy.array(PIL.Image.open(path + interp))[:, :, ::-1], data_range=255, multichannel=True))\n",
        "  dblIE.append(math.sqrt(skimage.measure.compare_mse(numpy.array(PIL.Image.open(path + gt))[:, :, ::-1], numpy.array(PIL.Image.open(path + interp))[:, :, ::-1])))\n",
        "\n",
        "print('computed average psnr', numpy.mean(dblPsnr))\n",
        "print('computed average ssim', numpy.mean(dblSsim))\n",
        "print('computed average ie', numpy.mean(dblIE))"
      ],
      "execution_count": 0,
      "outputs": [
        {
          "output_type": "stream",
          "text": [
            "/usr/local/lib/python3.6/dist-packages/ipykernel_launcher.py:19: UserWarning: DEPRECATED: skimage.measure.compare_psnr has been moved to skimage.metrics.peak_signal_noise_ratio. It will be removed from skimage.measure in version 0.18.\n",
            "/usr/local/lib/python3.6/dist-packages/ipykernel_launcher.py:20: UserWarning: DEPRECATED: skimage.measure.compare_ssim has been moved to skimage.metrics.structural_similarity. It will be removed from skimage.measure in version 0.18.\n",
            "/usr/local/lib/python3.6/dist-packages/ipykernel_launcher.py:21: UserWarning: DEPRECATED: skimage.measure.compare_mse has been moved to skimage.metrics.mean_squared_error. It will be removed from skimage.measure in version 0.18.\n"
          ],
          "name": "stderr"
        },
        {
          "output_type": "stream",
          "text": [
            "computed average psnr 26.082535440995088\n",
            "computed average ssim 0.8958941163577785\n",
            "computed average ie 16.55143615741482\n"
          ],
          "name": "stdout"
        }
      ]
    }
  ]
}